{
 "nbformat": 4,
 "nbformat_minor": 0,
 "metadata": {
  "colab": {
   "provenance": [],
   "authorship_tag": "ABX9TyOQgn0EapttvYtgT3R5ifqn",
   "include_colab_link": true
  },
  "kernelspec": {
   "name": "python3",
   "display_name": "Python 3"
  },
  "language_info": {
   "name": "python"
  }
 },
 "cells": [
  {
   "cell_type": "markdown",
   "metadata": {
    "id": "view-in-github",
    "colab_type": "text",
    "pycharm": {
     "name": "#%% md\n"
    }
   },
   "source": [
    "<a href=\"https://colab.research.google.com/github/AmirJlr/Thesis/blob/master/notebooks/molfeat.ipynb\" target=\"_parent\"><img src=\"https://colab.research.google.com/assets/colab-badge.svg\" alt=\"Open In Colab\"/></a>"
   ]
  },
  {
   "cell_type": "markdown",
   "source": [
    "<img src = \"https://github.com/datamol-io/molfeat/raw/main/docs/images/logo-title.svg\" />"
   ],
   "metadata": {
    "id": "NZeHrW3Acs-l",
    "pycharm": {
     "name": "#%% md\n"
    }
   }
  },
  {
   "cell_type": "code",
   "execution_count": 2,
   "metadata": {
    "id": "d1KaMQHBkLqR",
    "colab": {
     "base_uri": "https://localhost:8080/"
    },
    "outputId": "47f8a649-73c6-46e4-fd32-f47ce34a2c2b",
    "pycharm": {
     "name": "#%%\n"
    }
   },
   "outputs": [
    {
     "output_type": "stream",
     "name": "stdout",
     "text": [
      "Requirement already satisfied: rdkit in /usr/local/lib/python3.10/dist-packages (2024.3.1)\n",
      "Requirement already satisfied: numpy in /usr/local/lib/python3.10/dist-packages (from rdkit) (1.25.2)\n",
      "Requirement already satisfied: Pillow in /usr/local/lib/python3.10/dist-packages (from rdkit) (9.4.0)\n",
      "Looking in links: https://data.pyg.org/whl/torch-2.3.0+cu121.html\n",
      "Collecting pyg_lib\n",
      "  Downloading https://data.pyg.org/whl/torch-2.3.0%2Bcu121/pyg_lib-0.4.0%2Bpt23cu121-cp310-cp310-linux_x86_64.whl (2.5 MB)\n",
      "\u001B[2K     \u001B[90m━━━━━━━━━━━━━━━━━━━━━━━━━━━━━━━━━━━━━━━━\u001B[0m \u001B[32m2.5/2.5 MB\u001B[0m \u001B[31m24.4 MB/s\u001B[0m eta \u001B[36m0:00:00\u001B[0m\n",
      "\u001B[?25hCollecting torch_scatter\n",
      "  Downloading https://data.pyg.org/whl/torch-2.3.0%2Bcu121/torch_scatter-2.1.2%2Bpt23cu121-cp310-cp310-linux_x86_64.whl (10.9 MB)\n",
      "\u001B[2K     \u001B[90m━━━━━━━━━━━━━━━━━━━━━━━━━━━━━━━━━━━━━━━━\u001B[0m \u001B[32m10.9/10.9 MB\u001B[0m \u001B[31m77.5 MB/s\u001B[0m eta \u001B[36m0:00:00\u001B[0m\n",
      "\u001B[?25hCollecting torch_sparse\n",
      "  Downloading https://data.pyg.org/whl/torch-2.3.0%2Bcu121/torch_sparse-0.6.18%2Bpt23cu121-cp310-cp310-linux_x86_64.whl (5.1 MB)\n",
      "\u001B[2K     \u001B[90m━━━━━━━━━━━━━━━━━━━━━━━━━━━━━━━━━━━━━━━━\u001B[0m \u001B[32m5.1/5.1 MB\u001B[0m \u001B[31m28.1 MB/s\u001B[0m eta \u001B[36m0:00:00\u001B[0m\n",
      "\u001B[?25hCollecting torch_cluster\n",
      "  Downloading https://data.pyg.org/whl/torch-2.3.0%2Bcu121/torch_cluster-1.6.3%2Bpt23cu121-cp310-cp310-linux_x86_64.whl (3.4 MB)\n",
      "\u001B[2K     \u001B[90m━━━━━━━━━━━━━━━━━━━━━━━━━━━━━━━━━━━━━━━━\u001B[0m \u001B[32m3.4/3.4 MB\u001B[0m \u001B[31m3.0 MB/s\u001B[0m eta \u001B[36m0:00:00\u001B[0m\n",
      "\u001B[?25hCollecting torch_spline_conv\n",
      "  Downloading https://data.pyg.org/whl/torch-2.3.0%2Bcu121/torch_spline_conv-1.2.2%2Bpt23cu121-cp310-cp310-linux_x86_64.whl (947 kB)\n",
      "\u001B[2K     \u001B[90m━━━━━━━━━━━━━━━━━━━━━━━━━━━━━━━━━━━━━━━━\u001B[0m \u001B[32m947.1/947.1 kB\u001B[0m \u001B[31m44.5 MB/s\u001B[0m eta \u001B[36m0:00:00\u001B[0m\n",
      "\u001B[?25hRequirement already satisfied: scipy in /usr/local/lib/python3.10/dist-packages (from torch_sparse) (1.11.4)\n",
      "Requirement already satisfied: numpy<1.28.0,>=1.21.6 in /usr/local/lib/python3.10/dist-packages (from scipy->torch_sparse) (1.25.2)\n",
      "Installing collected packages: torch_spline_conv, torch_scatter, pyg_lib, torch_sparse, torch_cluster\n",
      "Successfully installed pyg_lib-0.4.0+pt23cu121 torch_cluster-1.6.3+pt23cu121 torch_scatter-2.1.2+pt23cu121 torch_sparse-0.6.18+pt23cu121 torch_spline_conv-1.2.2+pt23cu121\n",
      "Collecting torch_geometric\n",
      "  Downloading torch_geometric-2.5.3-py3-none-any.whl (1.1 MB)\n",
      "\u001B[2K     \u001B[90m━━━━━━━━━━━━━━━━━━━━━━━━━━━━━━━━━━━━━━━━\u001B[0m \u001B[32m1.1/1.1 MB\u001B[0m \u001B[31m10.6 MB/s\u001B[0m eta \u001B[36m0:00:00\u001B[0m\n",
      "\u001B[?25hRequirement already satisfied: tqdm in /usr/local/lib/python3.10/dist-packages (from torch_geometric) (4.66.4)\n",
      "Requirement already satisfied: numpy in /usr/local/lib/python3.10/dist-packages (from torch_geometric) (1.25.2)\n",
      "Requirement already satisfied: scipy in /usr/local/lib/python3.10/dist-packages (from torch_geometric) (1.11.4)\n",
      "Requirement already satisfied: fsspec in /usr/local/lib/python3.10/dist-packages (from torch_geometric) (2023.6.0)\n",
      "Requirement already satisfied: jinja2 in /usr/local/lib/python3.10/dist-packages (from torch_geometric) (3.1.4)\n",
      "Requirement already satisfied: aiohttp in /usr/local/lib/python3.10/dist-packages (from torch_geometric) (3.9.5)\n",
      "Requirement already satisfied: requests in /usr/local/lib/python3.10/dist-packages (from torch_geometric) (2.31.0)\n",
      "Requirement already satisfied: pyparsing in /usr/local/lib/python3.10/dist-packages (from torch_geometric) (3.1.2)\n",
      "Requirement already satisfied: scikit-learn in /usr/local/lib/python3.10/dist-packages (from torch_geometric) (1.2.2)\n",
      "Requirement already satisfied: psutil>=5.8.0 in /usr/local/lib/python3.10/dist-packages (from torch_geometric) (5.9.5)\n",
      "Requirement already satisfied: aiosignal>=1.1.2 in /usr/local/lib/python3.10/dist-packages (from aiohttp->torch_geometric) (1.3.1)\n",
      "Requirement already satisfied: attrs>=17.3.0 in /usr/local/lib/python3.10/dist-packages (from aiohttp->torch_geometric) (23.2.0)\n",
      "Requirement already satisfied: frozenlist>=1.1.1 in /usr/local/lib/python3.10/dist-packages (from aiohttp->torch_geometric) (1.4.1)\n",
      "Requirement already satisfied: multidict<7.0,>=4.5 in /usr/local/lib/python3.10/dist-packages (from aiohttp->torch_geometric) (6.0.5)\n",
      "Requirement already satisfied: yarl<2.0,>=1.0 in /usr/local/lib/python3.10/dist-packages (from aiohttp->torch_geometric) (1.9.4)\n",
      "Requirement already satisfied: async-timeout<5.0,>=4.0 in /usr/local/lib/python3.10/dist-packages (from aiohttp->torch_geometric) (4.0.3)\n",
      "Requirement already satisfied: MarkupSafe>=2.0 in /usr/local/lib/python3.10/dist-packages (from jinja2->torch_geometric) (2.1.5)\n",
      "Requirement already satisfied: charset-normalizer<4,>=2 in /usr/local/lib/python3.10/dist-packages (from requests->torch_geometric) (3.3.2)\n",
      "Requirement already satisfied: idna<4,>=2.5 in /usr/local/lib/python3.10/dist-packages (from requests->torch_geometric) (3.7)\n",
      "Requirement already satisfied: urllib3<3,>=1.21.1 in /usr/local/lib/python3.10/dist-packages (from requests->torch_geometric) (1.26.19)\n",
      "Requirement already satisfied: certifi>=2017.4.17 in /usr/local/lib/python3.10/dist-packages (from requests->torch_geometric) (2024.6.2)\n",
      "Requirement already satisfied: joblib>=1.1.1 in /usr/local/lib/python3.10/dist-packages (from scikit-learn->torch_geometric) (1.4.2)\n",
      "Requirement already satisfied: threadpoolctl>=2.0.0 in /usr/local/lib/python3.10/dist-packages (from scikit-learn->torch_geometric) (3.5.0)\n",
      "Installing collected packages: torch_geometric\n",
      "Successfully installed torch_geometric-2.5.3\n",
      "Collecting deepchem\n",
      "  Downloading deepchem-2.8.0-py3-none-any.whl (1.0 MB)\n",
      "\u001B[2K     \u001B[90m━━━━━━━━━━━━━━━━━━━━━━━━━━━━━━━━━━━━━━━━\u001B[0m \u001B[32m1.0/1.0 MB\u001B[0m \u001B[31m10.1 MB/s\u001B[0m eta \u001B[36m0:00:00\u001B[0m\n",
      "\u001B[?25hRequirement already satisfied: joblib in /usr/local/lib/python3.10/dist-packages (from deepchem) (1.4.2)\n",
      "Requirement already satisfied: numpy>=1.21 in /usr/local/lib/python3.10/dist-packages (from deepchem) (1.25.2)\n",
      "Requirement already satisfied: pandas in /usr/local/lib/python3.10/dist-packages (from deepchem) (2.0.3)\n",
      "Requirement already satisfied: scikit-learn in /usr/local/lib/python3.10/dist-packages (from deepchem) (1.2.2)\n",
      "Requirement already satisfied: sympy in /usr/local/lib/python3.10/dist-packages (from deepchem) (1.12.1)\n",
      "Requirement already satisfied: scipy>=1.10.1 in /usr/local/lib/python3.10/dist-packages (from deepchem) (1.11.4)\n",
      "Requirement already satisfied: rdkit in /usr/local/lib/python3.10/dist-packages (from deepchem) (2024.3.1)\n",
      "Requirement already satisfied: python-dateutil>=2.8.2 in /usr/local/lib/python3.10/dist-packages (from pandas->deepchem) (2.8.2)\n",
      "Requirement already satisfied: pytz>=2020.1 in /usr/local/lib/python3.10/dist-packages (from pandas->deepchem) (2023.4)\n",
      "Requirement already satisfied: tzdata>=2022.1 in /usr/local/lib/python3.10/dist-packages (from pandas->deepchem) (2024.1)\n",
      "Requirement already satisfied: Pillow in /usr/local/lib/python3.10/dist-packages (from rdkit->deepchem) (9.4.0)\n",
      "Requirement already satisfied: threadpoolctl>=2.0.0 in /usr/local/lib/python3.10/dist-packages (from scikit-learn->deepchem) (3.5.0)\n",
      "Requirement already satisfied: mpmath<1.4.0,>=1.1.0 in /usr/local/lib/python3.10/dist-packages (from sympy->deepchem) (1.3.0)\n",
      "Requirement already satisfied: six>=1.5 in /usr/local/lib/python3.10/dist-packages (from python-dateutil>=2.8.2->pandas->deepchem) (1.16.0)\n",
      "Installing collected packages: deepchem\n",
      "Successfully installed deepchem-2.8.0\n",
      "Collecting torchinfo\n",
      "  Downloading torchinfo-1.8.0-py3-none-any.whl (23 kB)\n",
      "Installing collected packages: torchinfo\n",
      "Successfully installed torchinfo-1.8.0\n",
      "Requirement already satisfied: molfeat in /usr/local/lib/python3.10/dist-packages (0.10.0)\n",
      "Requirement already satisfied: tqdm in /usr/local/lib/python3.10/dist-packages (from molfeat) (4.66.4)\n",
      "Requirement already satisfied: loguru in /usr/local/lib/python3.10/dist-packages (from molfeat) (0.7.2)\n",
      "Requirement already satisfied: joblib in /usr/local/lib/python3.10/dist-packages (from molfeat) (1.4.2)\n",
      "Requirement already satisfied: filelock in /usr/local/lib/python3.10/dist-packages (from molfeat) (3.15.3)\n",
      "Requirement already satisfied: fsspec>=2021.9 in /usr/local/lib/python3.10/dist-packages (from molfeat) (2023.6.0)\n",
      "Requirement already satisfied: s3fs>=2021.9 in /usr/local/lib/python3.10/dist-packages (from molfeat) (2023.6.0)\n",
      "Requirement already satisfied: gcsfs>=2021.9 in /usr/local/lib/python3.10/dist-packages (from molfeat) (2023.6.0)\n",
      "Requirement already satisfied: pandas in /usr/local/lib/python3.10/dist-packages (from molfeat) (2.0.3)\n",
      "Requirement already satisfied: numpy in /usr/local/lib/python3.10/dist-packages (from molfeat) (1.25.2)\n",
      "Requirement already satisfied: scipy in /usr/local/lib/python3.10/dist-packages (from molfeat) (1.11.4)\n",
      "Requirement already satisfied: torch>=1.13 in /usr/local/lib/python3.10/dist-packages (from molfeat) (2.3.0+cu121)\n",
      "Requirement already satisfied: datamol>=0.8.0 in /usr/local/lib/python3.10/dist-packages (from molfeat) (0.12.5)\n",
      "Requirement already satisfied: pyyaml in /usr/local/lib/python3.10/dist-packages (from molfeat) (6.0.1)\n",
      "Requirement already satisfied: platformdirs in /usr/local/lib/python3.10/dist-packages (from molfeat) (4.2.2)\n",
      "Requirement already satisfied: matplotlib in /usr/local/lib/python3.10/dist-packages (from molfeat) (3.7.1)\n",
      "Requirement already satisfied: h5py in /usr/local/lib/python3.10/dist-packages (from molfeat) (3.9.0)\n",
      "Requirement already satisfied: pyarrow in /usr/local/lib/python3.10/dist-packages (from molfeat) (14.0.2)\n",
      "Requirement already satisfied: pydantic>=2.0.0 in /usr/local/lib/python3.10/dist-packages (from molfeat) (2.7.4)\n",
      "Requirement already satisfied: scikit-learn in /usr/local/lib/python3.10/dist-packages (from molfeat) (1.2.2)\n",
      "Requirement already satisfied: packaging in /usr/local/lib/python3.10/dist-packages (from molfeat) (24.1)\n",
      "Requirement already satisfied: pmapper in /usr/local/lib/python3.10/dist-packages (from molfeat) (1.1.1)\n",
      "Requirement already satisfied: mordredcommunity in /usr/local/lib/python3.10/dist-packages (from molfeat) (2.0.5)\n",
      "Requirement already satisfied: python-dotenv in /usr/local/lib/python3.10/dist-packages (from molfeat) (1.0.1)\n",
      "Requirement already satisfied: rdkit in /usr/local/lib/python3.10/dist-packages (from molfeat) (2024.3.1)\n",
      "Requirement already satisfied: pillow in /usr/local/lib/python3.10/dist-packages (from datamol>=0.8.0->molfeat) (9.4.0)\n",
      "Requirement already satisfied: selfies in /usr/local/lib/python3.10/dist-packages (from datamol>=0.8.0->molfeat) (2.1.1)\n",
      "Requirement already satisfied: typing-extensions in /usr/local/lib/python3.10/dist-packages (from datamol>=0.8.0->molfeat) (4.12.2)\n",
      "Requirement already satisfied: importlib-resources in /usr/local/lib/python3.10/dist-packages (from datamol>=0.8.0->molfeat) (6.4.0)\n",
      "Requirement already satisfied: aiohttp!=4.0.0a0,!=4.0.0a1 in /usr/local/lib/python3.10/dist-packages (from gcsfs>=2021.9->molfeat) (3.9.5)\n",
      "Requirement already satisfied: decorator>4.1.2 in /usr/local/lib/python3.10/dist-packages (from gcsfs>=2021.9->molfeat) (4.4.2)\n",
      "Requirement already satisfied: google-auth>=1.2 in /usr/local/lib/python3.10/dist-packages (from gcsfs>=2021.9->molfeat) (2.27.0)\n",
      "Requirement already satisfied: google-auth-oauthlib in /usr/local/lib/python3.10/dist-packages (from gcsfs>=2021.9->molfeat) (1.2.0)\n",
      "Requirement already satisfied: google-cloud-storage in /usr/local/lib/python3.10/dist-packages (from gcsfs>=2021.9->molfeat) (2.8.0)\n",
      "Requirement already satisfied: requests in /usr/local/lib/python3.10/dist-packages (from gcsfs>=2021.9->molfeat) (2.31.0)\n",
      "Requirement already satisfied: annotated-types>=0.4.0 in /usr/local/lib/python3.10/dist-packages (from pydantic>=2.0.0->molfeat) (0.7.0)\n",
      "Requirement already satisfied: pydantic-core==2.18.4 in /usr/local/lib/python3.10/dist-packages (from pydantic>=2.0.0->molfeat) (2.18.4)\n",
      "Requirement already satisfied: aiobotocore~=2.5.0 in /usr/local/lib/python3.10/dist-packages (from s3fs>=2021.9->molfeat) (2.5.4)\n",
      "Requirement already satisfied: sympy in /usr/local/lib/python3.10/dist-packages (from torch>=1.13->molfeat) (1.12.1)\n",
      "Requirement already satisfied: networkx in /usr/local/lib/python3.10/dist-packages (from torch>=1.13->molfeat) (3.3)\n",
      "Requirement already satisfied: jinja2 in /usr/local/lib/python3.10/dist-packages (from torch>=1.13->molfeat) (3.1.4)\n",
      "Requirement already satisfied: nvidia-cuda-nvrtc-cu12==12.1.105 in /usr/local/lib/python3.10/dist-packages (from torch>=1.13->molfeat) (12.1.105)\n",
      "Requirement already satisfied: nvidia-cuda-runtime-cu12==12.1.105 in /usr/local/lib/python3.10/dist-packages (from torch>=1.13->molfeat) (12.1.105)\n",
      "Requirement already satisfied: nvidia-cuda-cupti-cu12==12.1.105 in /usr/local/lib/python3.10/dist-packages (from torch>=1.13->molfeat) (12.1.105)\n",
      "Requirement already satisfied: nvidia-cudnn-cu12==8.9.2.26 in /usr/local/lib/python3.10/dist-packages (from torch>=1.13->molfeat) (8.9.2.26)\n",
      "Requirement already satisfied: nvidia-cublas-cu12==12.1.3.1 in /usr/local/lib/python3.10/dist-packages (from torch>=1.13->molfeat) (12.1.3.1)\n",
      "Requirement already satisfied: nvidia-cufft-cu12==11.0.2.54 in /usr/local/lib/python3.10/dist-packages (from torch>=1.13->molfeat) (11.0.2.54)\n",
      "Requirement already satisfied: nvidia-curand-cu12==10.3.2.106 in /usr/local/lib/python3.10/dist-packages (from torch>=1.13->molfeat) (10.3.2.106)\n",
      "Requirement already satisfied: nvidia-cusolver-cu12==11.4.5.107 in /usr/local/lib/python3.10/dist-packages (from torch>=1.13->molfeat) (11.4.5.107)\n",
      "Requirement already satisfied: nvidia-cusparse-cu12==12.1.0.106 in /usr/local/lib/python3.10/dist-packages (from torch>=1.13->molfeat) (12.1.0.106)\n",
      "Requirement already satisfied: nvidia-nccl-cu12==2.20.5 in /usr/local/lib/python3.10/dist-packages (from torch>=1.13->molfeat) (2.20.5)\n",
      "Requirement already satisfied: nvidia-nvtx-cu12==12.1.105 in /usr/local/lib/python3.10/dist-packages (from torch>=1.13->molfeat) (12.1.105)\n",
      "Requirement already satisfied: triton==2.3.0 in /usr/local/lib/python3.10/dist-packages (from torch>=1.13->molfeat) (2.3.0)\n",
      "Requirement already satisfied: nvidia-nvjitlink-cu12 in /usr/local/lib/python3.10/dist-packages (from nvidia-cusolver-cu12==11.4.5.107->torch>=1.13->molfeat) (12.5.40)\n",
      "Requirement already satisfied: contourpy>=1.0.1 in /usr/local/lib/python3.10/dist-packages (from matplotlib->molfeat) (1.2.1)\n",
      "Requirement already satisfied: cycler>=0.10 in /usr/local/lib/python3.10/dist-packages (from matplotlib->molfeat) (0.12.1)\n",
      "Requirement already satisfied: fonttools>=4.22.0 in /usr/local/lib/python3.10/dist-packages (from matplotlib->molfeat) (4.53.0)\n",
      "Requirement already satisfied: kiwisolver>=1.0.1 in /usr/local/lib/python3.10/dist-packages (from matplotlib->molfeat) (1.4.5)\n",
      "Requirement already satisfied: pyparsing>=2.3.1 in /usr/local/lib/python3.10/dist-packages (from matplotlib->molfeat) (3.1.2)\n",
      "Requirement already satisfied: python-dateutil>=2.7 in /usr/local/lib/python3.10/dist-packages (from matplotlib->molfeat) (2.8.2)\n",
      "Requirement already satisfied: six in /usr/local/lib/python3.10/dist-packages (from mordredcommunity->molfeat) (1.16.0)\n",
      "Requirement already satisfied: pytz>=2020.1 in /usr/local/lib/python3.10/dist-packages (from pandas->molfeat) (2023.4)\n",
      "Requirement already satisfied: tzdata>=2022.1 in /usr/local/lib/python3.10/dist-packages (from pandas->molfeat) (2024.1)\n",
      "Requirement already satisfied: threadpoolctl>=2.0.0 in /usr/local/lib/python3.10/dist-packages (from scikit-learn->molfeat) (3.5.0)\n",
      "Requirement already satisfied: botocore<1.31.18,>=1.31.17 in /usr/local/lib/python3.10/dist-packages (from aiobotocore~=2.5.0->s3fs>=2021.9->molfeat) (1.31.17)\n",
      "Requirement already satisfied: wrapt<2.0.0,>=1.10.10 in /usr/local/lib/python3.10/dist-packages (from aiobotocore~=2.5.0->s3fs>=2021.9->molfeat) (1.14.1)\n",
      "Requirement already satisfied: aioitertools<1.0.0,>=0.5.1 in /usr/local/lib/python3.10/dist-packages (from aiobotocore~=2.5.0->s3fs>=2021.9->molfeat) (0.11.0)\n",
      "Requirement already satisfied: aiosignal>=1.1.2 in /usr/local/lib/python3.10/dist-packages (from aiohttp!=4.0.0a0,!=4.0.0a1->gcsfs>=2021.9->molfeat) (1.3.1)\n",
      "Requirement already satisfied: attrs>=17.3.0 in /usr/local/lib/python3.10/dist-packages (from aiohttp!=4.0.0a0,!=4.0.0a1->gcsfs>=2021.9->molfeat) (23.2.0)\n",
      "Requirement already satisfied: frozenlist>=1.1.1 in /usr/local/lib/python3.10/dist-packages (from aiohttp!=4.0.0a0,!=4.0.0a1->gcsfs>=2021.9->molfeat) (1.4.1)\n",
      "Requirement already satisfied: multidict<7.0,>=4.5 in /usr/local/lib/python3.10/dist-packages (from aiohttp!=4.0.0a0,!=4.0.0a1->gcsfs>=2021.9->molfeat) (6.0.5)\n",
      "Requirement already satisfied: yarl<2.0,>=1.0 in /usr/local/lib/python3.10/dist-packages (from aiohttp!=4.0.0a0,!=4.0.0a1->gcsfs>=2021.9->molfeat) (1.9.4)\n",
      "Requirement already satisfied: async-timeout<5.0,>=4.0 in /usr/local/lib/python3.10/dist-packages (from aiohttp!=4.0.0a0,!=4.0.0a1->gcsfs>=2021.9->molfeat) (4.0.3)\n",
      "Requirement already satisfied: cachetools<6.0,>=2.0.0 in /usr/local/lib/python3.10/dist-packages (from google-auth>=1.2->gcsfs>=2021.9->molfeat) (5.3.3)\n",
      "Requirement already satisfied: pyasn1-modules>=0.2.1 in /usr/local/lib/python3.10/dist-packages (from google-auth>=1.2->gcsfs>=2021.9->molfeat) (0.4.0)\n",
      "Requirement already satisfied: rsa<5,>=3.1.4 in /usr/local/lib/python3.10/dist-packages (from google-auth>=1.2->gcsfs>=2021.9->molfeat) (4.9)\n",
      "Requirement already satisfied: requests-oauthlib>=0.7.0 in /usr/local/lib/python3.10/dist-packages (from google-auth-oauthlib->gcsfs>=2021.9->molfeat) (1.3.1)\n",
      "Requirement already satisfied: google-api-core!=2.0.*,!=2.1.*,!=2.2.*,!=2.3.0,<3.0.0dev,>=1.31.5 in /usr/local/lib/python3.10/dist-packages (from google-cloud-storage->gcsfs>=2021.9->molfeat) (2.11.1)\n",
      "Requirement already satisfied: google-cloud-core<3.0dev,>=2.3.0 in /usr/local/lib/python3.10/dist-packages (from google-cloud-storage->gcsfs>=2021.9->molfeat) (2.3.3)\n",
      "Requirement already satisfied: google-resumable-media>=2.3.2 in /usr/local/lib/python3.10/dist-packages (from google-cloud-storage->gcsfs>=2021.9->molfeat) (2.7.1)\n",
      "Requirement already satisfied: charset-normalizer<4,>=2 in /usr/local/lib/python3.10/dist-packages (from requests->gcsfs>=2021.9->molfeat) (3.3.2)\n",
      "Requirement already satisfied: idna<4,>=2.5 in /usr/local/lib/python3.10/dist-packages (from requests->gcsfs>=2021.9->molfeat) (3.7)\n",
      "Requirement already satisfied: urllib3<3,>=1.21.1 in /usr/local/lib/python3.10/dist-packages (from requests->gcsfs>=2021.9->molfeat) (1.26.19)\n",
      "Requirement already satisfied: certifi>=2017.4.17 in /usr/local/lib/python3.10/dist-packages (from requests->gcsfs>=2021.9->molfeat) (2024.6.2)\n",
      "Requirement already satisfied: MarkupSafe>=2.0 in /usr/local/lib/python3.10/dist-packages (from jinja2->torch>=1.13->molfeat) (2.1.5)\n",
      "Requirement already satisfied: mpmath<1.4.0,>=1.1.0 in /usr/local/lib/python3.10/dist-packages (from sympy->torch>=1.13->molfeat) (1.3.0)\n",
      "Requirement already satisfied: jmespath<2.0.0,>=0.7.1 in /usr/local/lib/python3.10/dist-packages (from botocore<1.31.18,>=1.31.17->aiobotocore~=2.5.0->s3fs>=2021.9->molfeat) (1.0.1)\n",
      "Requirement already satisfied: googleapis-common-protos<2.0.dev0,>=1.56.2 in /usr/local/lib/python3.10/dist-packages (from google-api-core!=2.0.*,!=2.1.*,!=2.2.*,!=2.3.0,<3.0.0dev,>=1.31.5->google-cloud-storage->gcsfs>=2021.9->molfeat) (1.63.1)\n",
      "Requirement already satisfied: protobuf!=3.20.0,!=3.20.1,!=4.21.0,!=4.21.1,!=4.21.2,!=4.21.3,!=4.21.4,!=4.21.5,<5.0.0.dev0,>=3.19.5 in /usr/local/lib/python3.10/dist-packages (from google-api-core!=2.0.*,!=2.1.*,!=2.2.*,!=2.3.0,<3.0.0dev,>=1.31.5->google-cloud-storage->gcsfs>=2021.9->molfeat) (3.20.3)\n",
      "Requirement already satisfied: google-crc32c<2.0dev,>=1.0 in /usr/local/lib/python3.10/dist-packages (from google-resumable-media>=2.3.2->google-cloud-storage->gcsfs>=2021.9->molfeat) (1.5.0)\n",
      "Requirement already satisfied: pyasn1<0.7.0,>=0.4.6 in /usr/local/lib/python3.10/dist-packages (from pyasn1-modules>=0.2.1->google-auth>=1.2->gcsfs>=2021.9->molfeat) (0.6.0)\n",
      "Requirement already satisfied: oauthlib>=3.0.0 in /usr/local/lib/python3.10/dist-packages (from requests-oauthlib>=0.7.0->google-auth-oauthlib->gcsfs>=2021.9->molfeat) (3.2.2)\n"
     ]
    }
   ],
   "source": [
    "\n",
    "!pip install rdkit\n",
    "!pip install pyg_lib torch_scatter torch_sparse torch_cluster torch_spline_conv -f https://data.pyg.org/whl/torch-2.3.0+cu121.html\n",
    "!pip install torch_geometric\n",
    "!pip install deepchem\n",
    "!pip install torchinfo\n",
    "!pip install molfeat"
   ]
  },
  {
   "cell_type": "code",
   "source": [
    "import torch\n",
    "import numpy as np\n",
    "import pandas as pd\n",
    "\n",
    "from rdkit import Chem\n",
    "from rdkit.Chem import AllChem\n",
    "\n",
    "from torch_geometric.data import Dataset, InMemoryDataset, Data\n",
    "from torch_geometric.loader import DataLoader\n",
    "from torch_geometric.utils import from_smiles\n",
    "from torch_geometric.utils import degree\n",
    "\n",
    "import os\n",
    "from tqdm.notebook import tqdm\n",
    "from tqdm.auto import tqdm\n",
    "\n",
    "import deepchem as dc\n",
    "\n",
    "from sklearn.model_selection import train_test_split\n",
    "\n",
    "from molfeat.calc import FPCalculator, MordredDescriptors, Pharmacophore2D, Pharmacophore3D, RDKitDescriptors3D\n",
    "import datamol as dm\n",
    "from molfeat.trans import MoleculeTransformer\n",
    "\n",
    "from sklearn.decomposition import PCA"
   ],
   "metadata": {
    "id": "ROZDRWwRdaA0",
    "pycharm": {
     "name": "#%%\n"
    }
   },
   "execution_count": 3,
   "outputs": []
  },
  {
   "cell_type": "code",
   "source": [
    "df = pd.read_csv('/content/basic/raw/bace.csv')\n",
    "data = df.mol.values\n",
    "\n",
    "### prepare FP, DES :\n",
    "calc_ecfp = FPCalculator(\"ecfp\") # on smiles\n",
    "calc_atompair = FPCalculator(\"atompair\") # on smiles\n",
    "calc_maccs = FPCalculator(\"maccs\") # on smiles\n",
    "calc_estate = FPCalculator(\"estate\") # on smiles\n",
    "calc_mordredD = MordredDescriptors() # on smiles\n",
    "calc_phar2D = Pharmacophore2D() # on smiles\n",
    "calc_phar3D = Pharmacophore3D() # on conformer\n",
    "calc_rdkit3D = RDKitDescriptors3D() # on conformer\n",
    "\n",
    "featurizer_ecfp = MoleculeTransformer(calc_ecfp, dtype=np.float64)\n",
    "featurizer_atompair= MoleculeTransformer(calc_atompair, dtype=np.float64)\n",
    "featurizer_maccs = MoleculeTransformer(calc_maccs, dtype=np.float64)\n",
    "featurizer_estate = MoleculeTransformer(calc_estate, dtype=np.float64)\n",
    "featurizer_mordredD = MoleculeTransformer(calc_mordredD, dtype=np.float64)\n",
    "featurizer_phar2D = MoleculeTransformer(calc_phar2D, dtype=np.float64)\n",
    "featurizer_phar3D = MoleculeTransformer(calc_phar3D, dtype=np.float64)\n",
    "featurizer_rdkit3D = MoleculeTransformer(calc_rdkit3D, dtype=np.float64)\n",
    "\n",
    "def generate_conformers(mol):\n",
    "    mol = Chem.AddHs(mol)  # Add hydrogens\n",
    "    AllChem.EmbedMolecule(mol)  # Generate a conformer\n",
    "    AllChem.MMFFOptimizeMolecule(mol)  # Optimize the conformer\n",
    "    return mol\n",
    "\n",
    "# Assuming 'data' is a list of SMILES strings\n",
    "mols_with_conformers = [Chem.MolFromSmiles(smiles) for smiles in data]\n",
    "mols_with_conformers = [generate_conformers(mol) for mol in mols_with_conformers]\n",
    "\n",
    "with dm.without_rdkit_log():\n",
    "    ECFP = featurizer_ecfp(data)\n",
    "    AtomPair = featurizer_atompair(data)\n",
    "    MACCS = featurizer_maccs(data)\n",
    "    EState = featurizer_estate(data)\n",
    "    MordredD = featurizer_mordredD(data)\n",
    "    Phar2D = featurizer_phar2D(data)\n",
    "    Phar3D = featurizer_phar3D(mols_with_conformers)\n",
    "    Rdkit3D = featurizer_rdkit3D(mols_with_conformers)"
   ],
   "metadata": {
    "id": "luHQs_Q1iq1m",
    "outputId": "abdb4e00-91b5-4b34-c520-20a40aa54218",
    "colab": {
     "base_uri": "https://localhost:8080/",
     "height": 383
    },
    "pycharm": {
     "name": "#%%\n"
    }
   },
   "execution_count": 1,
   "outputs": [
    {
     "output_type": "error",
     "ename": "ModuleNotFoundError",
     "evalue": "No module named 'molfeat'",
     "traceback": [
      "\u001B[0;31m---------------------------------------------------------------------------\u001B[0m",
      "\u001B[0;31mModuleNotFoundError\u001B[0m                       Traceback (most recent call last)",
      "\u001B[0;32m<ipython-input-1-c8a30940190e>\u001B[0m in \u001B[0;36m<cell line: 1>\u001B[0;34m()\u001B[0m\n\u001B[0;32m----> 1\u001B[0;31m \u001B[0;32mfrom\u001B[0m \u001B[0mmolfeat\u001B[0m\u001B[0;34m.\u001B[0m\u001B[0mcalc\u001B[0m \u001B[0;32mimport\u001B[0m \u001B[0mFPCalculator\u001B[0m\u001B[0;34m,\u001B[0m \u001B[0mMordredDescriptors\u001B[0m\u001B[0;34m,\u001B[0m \u001B[0mPharmacophore2D\u001B[0m\u001B[0;34m,\u001B[0m \u001B[0mPharmacophore3D\u001B[0m\u001B[0;34m,\u001B[0m \u001B[0mRDKitDescriptors3D\u001B[0m\u001B[0;34m\u001B[0m\u001B[0;34m\u001B[0m\u001B[0m\n\u001B[0m\u001B[1;32m      2\u001B[0m \u001B[0;32mfrom\u001B[0m \u001B[0mmolfeat\u001B[0m\u001B[0;34m.\u001B[0m\u001B[0mtrans\u001B[0m \u001B[0;32mimport\u001B[0m \u001B[0mMoleculeTransformer\u001B[0m\u001B[0;34m\u001B[0m\u001B[0;34m\u001B[0m\u001B[0m\n\u001B[1;32m      3\u001B[0m \u001B[0;32mfrom\u001B[0m \u001B[0mrdkit\u001B[0m \u001B[0;32mimport\u001B[0m \u001B[0mChem\u001B[0m\u001B[0;34m\u001B[0m\u001B[0;34m\u001B[0m\u001B[0m\n\u001B[1;32m      4\u001B[0m \u001B[0;32mfrom\u001B[0m \u001B[0mrdkit\u001B[0m\u001B[0;34m.\u001B[0m\u001B[0mChem\u001B[0m \u001B[0;32mimport\u001B[0m \u001B[0mAllChem\u001B[0m\u001B[0;34m\u001B[0m\u001B[0;34m\u001B[0m\u001B[0m\n\u001B[1;32m      5\u001B[0m \u001B[0;32mfrom\u001B[0m \u001B[0msklearn\u001B[0m\u001B[0;34m.\u001B[0m\u001B[0mdecomposition\u001B[0m \u001B[0;32mimport\u001B[0m \u001B[0mPCA\u001B[0m\u001B[0;34m\u001B[0m\u001B[0;34m\u001B[0m\u001B[0m\n",
      "\u001B[0;31mModuleNotFoundError\u001B[0m: No module named 'molfeat'",
      "",
      "\u001B[0;31m---------------------------------------------------------------------------\u001B[0;32m\nNOTE: If your import is failing due to a missing package, you can\nmanually install dependencies using either !pip or !apt.\n\nTo view examples of installing some common dependencies, click the\n\"Open Examples\" button below.\n\u001B[0;31m---------------------------------------------------------------------------\u001B[0m\n"
     ],
     "errorDetails": {
      "actions": [
       {
        "action": "open_url",
        "actionText": "Open Examples",
        "url": "/notebooks/snippets/importing_libraries.ipynb"
       }
      ]
     }
    }
   ]
  },
  {
   "cell_type": "code",
   "source": [
    "N_COMPONENTS = 16\n",
    "\n",
    "pca_ecfp = PCA(n_components= N_COMPONENTS)\n",
    "pca_atompair = PCA(n_components= N_COMPONENTS)\n",
    "pca_maccs = PCA(n_components= N_COMPONENTS)\n",
    "pca_estate = PCA(n_components= N_COMPONENTS)\n",
    "pca_mordredD = PCA(n_components= N_COMPONENTS)\n",
    "pca_phar2D = PCA(n_components= N_COMPONENTS)\n",
    "pca_phar3D = PCA(n_components= N_COMPONENTS)\n",
    "pca_rdkit3D = PCA(n_components= N_COMPONENTS)\n",
    "\n",
    "ECFP_reduced = pca_ecfp.fit_transform(ECFP)\n",
    "AtomPair_reduced = pca_atompair.fit_transform(AtomPair)\n",
    "MACCS_reduced = pca_maccs.fit_transform(MACCS)\n",
    "EState_reduced = pca_estate.fit_transform(EState)\n",
    "MordredD_reduced = pca_mordredD.fit_transform(MordredD)\n",
    "Phar2D_reduced = pca_phar2D.fit_transform(Phar2D)\n",
    "Phar3D_reduced = pca_phar3D.fit_transform(Phar3D)\n",
    "Rdkit3D_reduced = pca_rdkit3D.fit_transform(Rdkit3D)\n",
    "\n",
    "assert ECFP_reduced.shape == AtomPair_reduced.shape == MACCS_reduced.shape == EState_reduced.shape == MordredD_reduced.shape == Phar2D_reduced.shape == Phar3D_reduced.shape == Rdkit3D_reduced.shape"
   ],
   "metadata": {
    "id": "U7iip355jSPi",
    "outputId": "53ff411b-99e1-4839-dca7-6b1df30c8339",
    "colab": {
     "base_uri": "https://localhost:8080/"
    },
    "pycharm": {
     "name": "#%%\n"
    }
   },
   "execution_count": 36,
   "outputs": [
    {
     "output_type": "execute_result",
     "data": {
      "text/plain": [
       "(1513, 216)"
      ]
     },
     "metadata": {},
     "execution_count": 36
    }
   ]
  },
  {
   "cell_type": "code",
   "source": [
    "class DTsetBasic(InMemoryDataset):\n",
    "    def __init__(self, root, filename, smiles_column, label_column, rdkit2D):\n",
    "        self.filename = filename\n",
    "        self.smiles_column = smiles_column\n",
    "        self.label_column = label_column\n",
    "\n",
    "        self.rdkit2D = rdkit2D\n",
    "\n",
    "        super().__init__(root)\n",
    "        self.load(self.processed_paths[0])\n",
    "\n",
    "    @property\n",
    "    def raw_file_names(self):\n",
    "        return [self.filename]\n",
    "\n",
    "    @property\n",
    "    def processed_file_names(self):\n",
    "        return ['data.pt']\n",
    "\n",
    "    def download(self):\n",
    "        pass  # Implement download logic if needed\n",
    "\n",
    "    def process(self):\n",
    "        # Load raw data\n",
    "        data_path = os.path.join(self.raw_dir, self.filename)\n",
    "        df = pd.read_csv(data_path)\n",
    "\n",
    "        graph_list = []\n",
    "        for i, smiles in tqdm(enumerate(df[self.smiles_column])):\n",
    "\n",
    "            mol = Chem.MolFromSmiles(smiles)\n",
    "            if mol is None:\n",
    "                continue  # Skip invalid SMILES strings\n",
    "\n",
    "            g = from_smiles(smiles)\n",
    "            g.x = g.x.float()\n",
    "            y = torch.tensor(df[self.label_column][i], dtype=torch.float).view(1, -1)\n",
    "            g.y = y\n",
    "\n",
    "            g.rdkit2D = torch.tensor(self.rdkit2D[i], dtype=torch.float).view(1, -1)\n",
    "\n",
    "            graph_list.append(g)\n",
    "\n",
    "        data_list = graph_list\n",
    "\n",
    "        # Apply pre-filter and pre-transform\n",
    "        if self.pre_filter is not None:\n",
    "            data_list = [data for data in data_list if self.pre_filter(data)]\n",
    "\n",
    "        if self.pre_transform is not None:\n",
    "            data_list = [self.pre_transform(data) for data in data_list]\n",
    "\n",
    "        # Save processed data\n",
    "        self.save(data_list, self.processed_paths[0])\n"
   ],
   "metadata": {
    "id": "MGjqtXE7kDfp",
    "pycharm": {
     "name": "#%%\n"
    }
   },
   "execution_count": null,
   "outputs": []
  },
  {
   "cell_type": "code",
   "source": [
    "dataset = DTsetBasic(root='new', filename='bace.csv', smiles_column='mol', label_column='Class', rdkit2D=rdkit2D_reduced)"
   ],
   "metadata": {
    "id": "gcFYXf0b-r4m",
    "pycharm": {
     "name": "#%%\n"
    }
   },
   "execution_count": null,
   "outputs": []
  },
  {
   "cell_type": "code",
   "source": [],
   "metadata": {
    "id": "kQtvnKxy-r0N",
    "pycharm": {
     "name": "#%%\n"
    }
   },
   "execution_count": null,
   "outputs": []
  },
  {
   "cell_type": "code",
   "source": [],
   "metadata": {
    "id": "CP8VafdaAEfS",
    "pycharm": {
     "name": "#%%\n"
    }
   },
   "execution_count": null,
   "outputs": []
  },
  {
   "cell_type": "markdown",
   "source": [
    "## All featurizers in Molfeat inherit from at least one of three classes:\n",
    "\n",
    "1. `molfeat.calc.SerializableCalculator` : A calculator is a Callable that featurizes a single molecule.\n",
    "\n",
    "2. `molfeat.trans.MoleculeTransformer` : A transformer is a class that wraps a calculator in a featurization pipeline.\n",
    "\n",
    "3. `molfeat.trans.pretrained.PretrainedMolTransformer` : A subclass of MoleculeTransformer that extends the transformer interface to support the usage of pretrained models."
   ],
   "metadata": {
    "id": "TxP0L-nodCoL",
    "pycharm": {
     "name": "#%% md\n"
    }
   }
  },
  {
   "cell_type": "markdown",
   "source": [
    "## Fingerprints Calculators :\n",
    "A calculator is a Callable that takes an RDKit Chem.Mol object or a SMILES string and returns a feature vector. In the following example, we will use the FPCalculator."
   ],
   "metadata": {
    "id": "OCb7aTZGdkEz",
    "pycharm": {
     "name": "#%% md\n"
    }
   }
  },
  {
   "cell_type": "code",
   "source": [
    "# The FPCalculator implements several popular molecular fingerprints:\n",
    "\n",
    "from molfeat.calc import FP_FUNCS\n",
    "FP_FUNCS.keys()"
   ],
   "metadata": {
    "id": "NCfq-J8ZKmCx",
    "outputId": "edc188e8-2f12-4613-b3bd-8aa61f13fc2f",
    "colab": {
     "base_uri": "https://localhost:8080/"
    },
    "pycharm": {
     "name": "#%%\n"
    }
   },
   "execution_count": null,
   "outputs": [
    {
     "output_type": "execute_result",
     "data": {
      "text/plain": [
       "dict_keys(['maccs', 'avalon', 'ecfp', 'fcfp', 'topological', 'atompair', 'rdkit', 'pattern', 'layered', 'map4', 'secfp', 'erg', 'estate', 'avalon-count', 'rdkit-count', 'ecfp-count', 'fcfp-count', 'topological-count', 'atompair-count'])"
      ]
     },
     "metadata": {},
     "execution_count": 3
    }
   ]
  },
  {
   "cell_type": "code",
   "source": [
    "from molfeat.calc import FPCalculator\n",
    "\n",
    "smiles = \"CN1C=NC2=C1C(=O)N(C(=O)N2C)C\"\n",
    "calc = FPCalculator(\"estate\")\n",
    "X = calc(smiles)\n",
    "X.shape"
   ],
   "metadata": {
    "colab": {
     "base_uri": "https://localhost:8080/"
    },
    "id": "FJw8AOHScGol",
    "outputId": "c9f3b258-b781-4724-d559-b50b61c899fa",
    "pycharm": {
     "name": "#%%\n"
    }
   },
   "execution_count": null,
   "outputs": [
    {
     "output_type": "execute_result",
     "data": {
      "text/plain": [
       "(79,)"
      ]
     },
     "metadata": {},
     "execution_count": 17
    }
   ]
  },
  {
   "cell_type": "code",
   "source": [
    "# Switching to any other fingerprint is easy:\n",
    "calc = FPCalculator(\"ecfp\")\n",
    "X = calc(smiles)\n",
    "X.shape"
   ],
   "metadata": {
    "colab": {
     "base_uri": "https://localhost:8080/"
    },
    "id": "wxy9RVB1d7L8",
    "outputId": "d4e30f70-04cb-415b-bb4c-2704ed9552e4",
    "pycharm": {
     "name": "#%%\n"
    }
   },
   "execution_count": null,
   "outputs": [
    {
     "output_type": "execute_result",
     "data": {
      "text/plain": [
       "(2048,)"
      ]
     },
     "metadata": {},
     "execution_count": 4
    }
   ]
  },
  {
   "cell_type": "markdown",
   "source": [
    "## Descriptor Calculator"
   ],
   "metadata": {
    "id": "9PsL7zK6K93_",
    "pycharm": {
     "name": "#%% md\n"
    }
   }
  },
  {
   "cell_type": "markdown",
   "source": [
    "Beyond these fingerprints, Molfeat also provides **calculators for other molecular descriptors**.\n",
    "\n",
    "All available calculator classes, both built-in and plugin-based, can be found through the `molfeat.calc` module:"
   ],
   "metadata": {
    "id": "3HW3OE0NeNYa",
    "pycharm": {
     "name": "#%% md\n"
    }
   }
  },
  {
   "cell_type": "code",
   "source": [
    "from molfeat.calc import _CALCULATORS\n",
    "_CALCULATORS.keys()"
   ],
   "metadata": {
    "colab": {
     "base_uri": "https://localhost:8080/"
    },
    "id": "sWe-sEGndy0w",
    "outputId": "be833512-3491-4c45-fa70-3d59f50c70a2",
    "pycharm": {
     "name": "#%%\n"
    }
   },
   "execution_count": null,
   "outputs": [
    {
     "output_type": "execute_result",
     "data": {
      "text/plain": [
       "dict_keys(['CATS', 'RDKitDescriptors2D', 'RDKitDescriptors3D', 'MordredDescriptors', 'FPCalculator', 'Pharmacophore2D', 'Pharmacophore3D', 'USRDescriptors', 'ElectroShapeDescriptors', 'ScaffoldKeyCalculator', 'AtomCalculator', 'AtomMaterialCalculator', 'DGLCanonicalAtomCalculator', 'DGLWeaveAtomCalculator', 'BondCalculator', 'EdgeMatCalculator', 'DGLCanonicalBondCalculator', 'DGLWeaveEdgeCalculator'])"
      ]
     },
     "metadata": {},
     "execution_count": 7
    }
   ]
  },
  {
   "cell_type": "code",
   "source": [
    "from molfeat.calc import RDKitDescriptors2D\n",
    "\n",
    "smiles = \"CN1C=NC2=C1C(=O)N(C(=O)N2C)C\"\n",
    "calc = RDKitDescriptors2D()\n",
    "X = calc(smiles)\n",
    "X.shape"
   ],
   "metadata": {
    "id": "2yPln7Wft0uv",
    "outputId": "5f98f79c-e563-4bf2-884f-7b164846038b",
    "colab": {
     "base_uri": "https://localhost:8080/"
    },
    "pycharm": {
     "name": "#%%\n"
    }
   },
   "execution_count": null,
   "outputs": [
    {
     "output_type": "stream",
     "name": "stderr",
     "text": [
      "[14:56:21] Initializing MetalDisconnector\n",
      "[14:56:21] Running MetalDisconnector\n",
      "[14:56:21] Initializing Normalizer\n",
      "[14:56:21] Running Normalizer\n",
      "[14:56:21] Initializing MetalDisconnector\n",
      "[14:56:21] Running MetalDisconnector\n",
      "[14:56:21] Initializing Normalizer\n",
      "[14:56:21] Running Normalizer\n",
      "[14:56:21] DEPRECATION WARNING: please use MorganGenerator\n",
      "[14:56:21] DEPRECATION WARNING: please use MorganGenerator\n",
      "[14:56:21] DEPRECATION WARNING: please use MorganGenerator\n"
     ]
    },
    {
     "output_type": "execute_result",
     "data": {
      "text/plain": [
       "(216,)"
      ]
     },
     "metadata": {},
     "execution_count": 36
    }
   ]
  },
  {
   "cell_type": "code",
   "source": [
    "from molfeat.calc import RDKitDescriptors3D, Pharmacophore3D, USRDescriptors\n",
    "\n",
    "def generate_conformers(smiles):\n",
    "    mol = Chem.MolFromSmiles(smiles)\n",
    "    mol = Chem.AddHs(mol)  # Add hydrogens\n",
    "    AllChem.EmbedMolecule(mol)  # Generate a conformer\n",
    "    AllChem.MMFFOptimizeMolecule(mol)  # Optimize the conformer\n",
    "    return mol\n",
    "\n",
    "smiles = \"CN1C=NC2=C1C(=O)N(C(=O)N2C)C\"\n",
    "mols_with_conformers = generate_conformers(smiles)\n",
    "calc = USRDescriptors()\n",
    "\n",
    "calc(mols_with_conformers).shape"
   ],
   "metadata": {
    "id": "-LwLw3GzuFoW",
    "outputId": "0a4b92c4-1cd4-4c28-c6de-631f58f14f28",
    "colab": {
     "base_uri": "https://localhost:8080/"
    },
    "pycharm": {
     "name": "#%%\n"
    }
   },
   "execution_count": null,
   "outputs": [
    {
     "output_type": "execute_result",
     "data": {
      "text/plain": [
       "(12,)"
      ]
     },
     "metadata": {},
     "execution_count": 35
    }
   ]
  },
  {
   "cell_type": "markdown",
   "source": [
    "Every calculator is serializable, meaning it can be efficiently stored to — and loaded from — disk. To learn more, please see the tutorial on [saving and loading featurizers](https://molfeat-docs.datamol.io/stable/tutorials/save_and_load.html)."
   ],
   "metadata": {
    "id": "3HcsPi6keh9d",
    "pycharm": {
     "name": "#%% md\n"
    }
   }
  },
  {
   "cell_type": "markdown",
   "source": [
    "## Transformers\n",
    "\n",
    "In practice, you won't want to featurize a single molecule, but rather a batch of molecules. This is where transformers come in.\n",
    "\n",
    "**A transformer is a class that wraps a calculator in a featurization pipeline**.\n",
    "\n",
    "The MoleculeTransformer class provides a convenient interface for **featurizing a batch of molecules**. It also provides a number of useful methods to customize the featurization pipeline."
   ],
   "metadata": {
    "id": "Rc9aSs1Ie8uh",
    "pycharm": {
     "name": "#%% md\n"
    }
   }
  },
  {
   "cell_type": "code",
   "source": [
    "from molfeat.calc import RDKitDescriptors3D\n",
    "from molfeat.trans import MoleculeTransformer\n",
    "\n",
    "data = dm.data.freesolv().smiles.values\n",
    "\n",
    "len(data)"
   ],
   "metadata": {
    "colab": {
     "base_uri": "https://localhost:8080/"
    },
    "id": "0EsBbCWGea3n",
    "outputId": "fc468eb3-f5bc-490f-a191-058d2d1e1f47",
    "pycharm": {
     "name": "#%%\n"
    }
   },
   "execution_count": null,
   "outputs": [
    {
     "output_type": "execute_result",
     "data": {
      "text/plain": [
       "642"
      ]
     },
     "metadata": {},
     "execution_count": 16
    }
   ]
  },
  {
   "cell_type": "code",
   "source": [
    "from rdkit import Chem\n",
    "from rdkit.Chem import AllChem\n",
    "\n",
    "def generate_conformers(mol):\n",
    "    mol = Chem.AddHs(mol)  # Add hydrogens\n",
    "    AllChem.EmbedMolecule(mol)  # Generate a conformer\n",
    "    AllChem.MMFFOptimizeMolecule(mol)  # Optimize the conformer\n",
    "    return mol\n",
    "\n",
    "# Assuming 'data' is a list of SMILES strings\n",
    "mols_with_conformers = [Chem.MolFromSmiles(smiles) for smiles in data]\n",
    "mols_with_conformers = [generate_conformers(mol) for mol in mols_with_conformers]"
   ],
   "metadata": {
    "id": "34fsqWcwNOgX",
    "pycharm": {
     "name": "#%%\n"
    }
   },
   "execution_count": null,
   "outputs": []
  },
  {
   "cell_type": "code",
   "source": [
    "# Let's try a different calculator!\n",
    "calc = RDKitDescriptors3D(replace_nan=True)\n",
    "\n",
    "featurizer = MoleculeTransformer(calc, n_jobs=1, dtype=torch.float32)\n",
    "\n",
    "with dm.without_rdkit_log():\n",
    "    X = featurizer(mols_with_conformers)\n"
   ],
   "metadata": {
    "id": "lAYXYOSvfc69",
    "pycharm": {
     "name": "#%%\n"
    }
   },
   "execution_count": null,
   "outputs": []
  },
  {
   "cell_type": "code",
   "source": [
    "X.shape"
   ],
   "metadata": {
    "id": "ALpb_GSkN8xs",
    "outputId": "1d242e95-29fc-4a9d-bb68-eb4b26d3ed77",
    "colab": {
     "base_uri": "https://localhost:8080/"
    },
    "pycharm": {
     "name": "#%%\n"
    }
   },
   "execution_count": null,
   "outputs": [
    {
     "output_type": "execute_result",
     "data": {
      "text/plain": [
       "torch.Size([642, 639])"
      ]
     },
     "metadata": {},
     "execution_count": 19
    }
   ]
  },
  {
   "cell_type": "code",
   "source": [
    "from sklearn.decomposition import PCA\n",
    "import numpy as np\n",
    "\n",
    "# Assuming X is a PyTorch tensor, convert it to a NumPy array\n",
    "X_np = X.numpy()\n",
    "\n",
    "# Initialize PCA. You can specify the number of components to keep\n",
    "pca = PCA(n_components=10)\n",
    "\n",
    "# Fit and transform the data\n",
    "X_reduced = pca.fit_transform(X_np)"
   ],
   "metadata": {
    "id": "CHeNtsfSPPO2",
    "pycharm": {
     "name": "#%%\n"
    }
   },
   "execution_count": null,
   "outputs": []
  },
  {
   "cell_type": "code",
   "source": [
    "X_reduced.shape"
   ],
   "metadata": {
    "id": "mGenoKYuQd2v",
    "outputId": "0239ca44-e6b1-40e5-f437-6c49af938d0d",
    "colab": {
     "base_uri": "https://localhost:8080/"
    },
    "pycharm": {
     "name": "#%%\n"
    }
   },
   "execution_count": null,
   "outputs": [
    {
     "output_type": "execute_result",
     "data": {
      "text/plain": [
       "(642, 10)"
      ]
     },
     "metadata": {},
     "execution_count": 27
    }
   ]
  },
  {
   "cell_type": "code",
   "source": [
    "cumsum=np.cumsum(pca.explained_variance_ratio_)\n",
    "d=np.argmax(cumsum>=0.95)+1\n",
    "print(d)"
   ],
   "metadata": {
    "id": "u64HNgf8Qz47",
    "outputId": "f4632fed-6d2d-4207-b81b-dfab9c857fb4",
    "colab": {
     "base_uri": "https://localhost:8080/"
    },
    "pycharm": {
     "name": "#%%\n"
    }
   },
   "execution_count": null,
   "outputs": [
    {
     "output_type": "stream",
     "name": "stdout",
     "text": [
      "2\n"
     ]
    }
   ]
  },
  {
   "cell_type": "code",
   "source": [
    "### RDKit 3D Descriptors\n",
    "pd.DataFrame(X)"
   ],
   "metadata": {
    "colab": {
     "base_uri": "https://localhost:8080/",
     "height": 617
    },
    "id": "Vnkt-KhIfx8P",
    "outputId": "e1c4584e-f379-4335-bcde-3bbdde2acad6",
    "pycharm": {
     "name": "#%%\n"
    }
   },
   "execution_count": null,
   "outputs": [
    {
     "output_type": "execute_result",
     "data": {
      "text/plain": [
       "          0         1         2         3         4           5    \\\n",
       "0    0.605125  0.987798  0.004101  0.155740  0.923234  225.116074   \n",
       "1    0.108638  0.821560  0.008930  0.570122  0.980095  109.750389   \n",
       "2    0.271671  0.931039  0.011586  0.364919  0.775449   66.927849   \n",
       "3    0.397587  0.962961  0.007765  0.269639  0.829161  106.776176   \n",
       "4    0.756375  0.996001  0.012073  0.089346  0.953983   79.019684   \n",
       "..        ...       ...       ...       ...       ...         ...   \n",
       "637  0.755546  0.995951  0.005946  0.089896  0.963891  162.111420   \n",
       "638  0.165101  0.826996  0.007906  0.562207  0.571108   72.240784   \n",
       "639  0.583493  0.986027  0.008298  0.166587  0.833413  100.435768   \n",
       "640  0.706997  0.993978  0.007029  0.109582  0.923499  131.384323   \n",
       "641  0.171629  0.842188  0.005805  0.539185  0.584517  100.690674   \n",
       "\n",
       "             6            7         8             9    ...    629    630  \\\n",
       "0    1334.498901  1445.461182  2.895481  1.675609e-01  ...  0.307  0.487   \n",
       "1     188.671692   192.503479  1.463826  6.394649e-01  ...  0.398  0.638   \n",
       "2     142.220993   183.404739  1.672889  4.287855e-01  ...  0.275  0.451   \n",
       "3     328.344818   395.996521  1.960266  2.444328e-01  ...  0.299  0.477   \n",
       "4     843.726868   884.425720  2.788523  1.907480e-01  ...  0.332  0.500   \n",
       "..           ...          ...       ...           ...  ...    ...    ...   \n",
       "637  1738.211670  1803.327881  3.420901  1.453280e-01  ...  0.367  0.544   \n",
       "638    73.384537   128.494949  1.388195  4.042432e-01  ...  0.358  0.609   \n",
       "639   502.466919   602.902710  2.221902  7.588825e-12  ...  0.239  0.468   \n",
       "640  1107.234985  1198.956543  3.008575  2.046638e-01  ...  0.373  0.473   \n",
       "641   109.156242   186.746155  1.500220  3.657571e-01  ...  0.479  0.770   \n",
       "\n",
       "       631        632        633        634        635        636        637  \\\n",
       "0    0.391  40.571999  20.518999  25.318001  39.636002  28.273001  42.935001   \n",
       "1    0.931   5.881000   6.263000   5.486000   6.382000   4.677000   6.238000   \n",
       "2    0.332  11.818000   5.015000   7.243000  11.600000   8.355000  12.490000   \n",
       "3    0.330  15.533000   7.782000   9.900000  15.062000  11.183000  16.319000   \n",
       "4    0.447  24.122000  13.658000  16.549999  24.032000  18.058001  25.240999   \n",
       "..     ...        ...        ...        ...        ...        ...        ...   \n",
       "637  0.441  43.842999  26.549999  31.146000  43.464001  33.743999  45.733002   \n",
       "638  0.437   7.769000   3.112000   4.650000   7.545000   5.466000   8.137000   \n",
       "639  0.484  13.035000   8.370000   8.696000  13.239000   8.933000  13.996000   \n",
       "640  0.482  24.205000  21.320999  19.400000  24.743000  21.311001  25.228001   \n",
       "641  0.534   8.330000   3.798000   5.329000   7.978000   6.180000   8.709000   \n",
       "\n",
       "           638  \n",
       "0    34.752998  \n",
       "1     8.932000  \n",
       "2     9.786000  \n",
       "3    12.263000  \n",
       "4    23.617001  \n",
       "..         ...  \n",
       "637  43.125000  \n",
       "638   6.445000  \n",
       "639  13.196000  \n",
       "640  27.371000  \n",
       "641   6.539000  \n",
       "\n",
       "[642 rows x 639 columns]"
      ],
      "text/html": [
       "\n",
       "  <div id=\"df-19fd699e-fe03-45ef-ac28-4c65469ff593\" class=\"colab-df-container\">\n",
       "    <div>\n",
       "<style scoped>\n",
       "    .dataframe tbody tr th:only-of-type {\n",
       "        vertical-align: middle;\n",
       "    }\n",
       "\n",
       "    .dataframe tbody tr th {\n",
       "        vertical-align: top;\n",
       "    }\n",
       "\n",
       "    .dataframe thead th {\n",
       "        text-align: right;\n",
       "    }\n",
       "</style>\n",
       "<table border=\"1\" class=\"dataframe\">\n",
       "  <thead>\n",
       "    <tr style=\"text-align: right;\">\n",
       "      <th></th>\n",
       "      <th>0</th>\n",
       "      <th>1</th>\n",
       "      <th>2</th>\n",
       "      <th>3</th>\n",
       "      <th>4</th>\n",
       "      <th>5</th>\n",
       "      <th>6</th>\n",
       "      <th>7</th>\n",
       "      <th>8</th>\n",
       "      <th>9</th>\n",
       "      <th>...</th>\n",
       "      <th>629</th>\n",
       "      <th>630</th>\n",
       "      <th>631</th>\n",
       "      <th>632</th>\n",
       "      <th>633</th>\n",
       "      <th>634</th>\n",
       "      <th>635</th>\n",
       "      <th>636</th>\n",
       "      <th>637</th>\n",
       "      <th>638</th>\n",
       "    </tr>\n",
       "  </thead>\n",
       "  <tbody>\n",
       "    <tr>\n",
       "      <th>0</th>\n",
       "      <td>0.605125</td>\n",
       "      <td>0.987798</td>\n",
       "      <td>0.004101</td>\n",
       "      <td>0.155740</td>\n",
       "      <td>0.923234</td>\n",
       "      <td>225.116074</td>\n",
       "      <td>1334.498901</td>\n",
       "      <td>1445.461182</td>\n",
       "      <td>2.895481</td>\n",
       "      <td>1.675609e-01</td>\n",
       "      <td>...</td>\n",
       "      <td>0.307</td>\n",
       "      <td>0.487</td>\n",
       "      <td>0.391</td>\n",
       "      <td>40.571999</td>\n",
       "      <td>20.518999</td>\n",
       "      <td>25.318001</td>\n",
       "      <td>39.636002</td>\n",
       "      <td>28.273001</td>\n",
       "      <td>42.935001</td>\n",
       "      <td>34.752998</td>\n",
       "    </tr>\n",
       "    <tr>\n",
       "      <th>1</th>\n",
       "      <td>0.108638</td>\n",
       "      <td>0.821560</td>\n",
       "      <td>0.008930</td>\n",
       "      <td>0.570122</td>\n",
       "      <td>0.980095</td>\n",
       "      <td>109.750389</td>\n",
       "      <td>188.671692</td>\n",
       "      <td>192.503479</td>\n",
       "      <td>1.463826</td>\n",
       "      <td>6.394649e-01</td>\n",
       "      <td>...</td>\n",
       "      <td>0.398</td>\n",
       "      <td>0.638</td>\n",
       "      <td>0.931</td>\n",
       "      <td>5.881000</td>\n",
       "      <td>6.263000</td>\n",
       "      <td>5.486000</td>\n",
       "      <td>6.382000</td>\n",
       "      <td>4.677000</td>\n",
       "      <td>6.238000</td>\n",
       "      <td>8.932000</td>\n",
       "    </tr>\n",
       "    <tr>\n",
       "      <th>2</th>\n",
       "      <td>0.271671</td>\n",
       "      <td>0.931039</td>\n",
       "      <td>0.011586</td>\n",
       "      <td>0.364919</td>\n",
       "      <td>0.775449</td>\n",
       "      <td>66.927849</td>\n",
       "      <td>142.220993</td>\n",
       "      <td>183.404739</td>\n",
       "      <td>1.672889</td>\n",
       "      <td>4.287855e-01</td>\n",
       "      <td>...</td>\n",
       "      <td>0.275</td>\n",
       "      <td>0.451</td>\n",
       "      <td>0.332</td>\n",
       "      <td>11.818000</td>\n",
       "      <td>5.015000</td>\n",
       "      <td>7.243000</td>\n",
       "      <td>11.600000</td>\n",
       "      <td>8.355000</td>\n",
       "      <td>12.490000</td>\n",
       "      <td>9.786000</td>\n",
       "    </tr>\n",
       "    <tr>\n",
       "      <th>3</th>\n",
       "      <td>0.397587</td>\n",
       "      <td>0.962961</td>\n",
       "      <td>0.007765</td>\n",
       "      <td>0.269639</td>\n",
       "      <td>0.829161</td>\n",
       "      <td>106.776176</td>\n",
       "      <td>328.344818</td>\n",
       "      <td>395.996521</td>\n",
       "      <td>1.960266</td>\n",
       "      <td>2.444328e-01</td>\n",
       "      <td>...</td>\n",
       "      <td>0.299</td>\n",
       "      <td>0.477</td>\n",
       "      <td>0.330</td>\n",
       "      <td>15.533000</td>\n",
       "      <td>7.782000</td>\n",
       "      <td>9.900000</td>\n",
       "      <td>15.062000</td>\n",
       "      <td>11.183000</td>\n",
       "      <td>16.319000</td>\n",
       "      <td>12.263000</td>\n",
       "    </tr>\n",
       "    <tr>\n",
       "      <th>4</th>\n",
       "      <td>0.756375</td>\n",
       "      <td>0.996001</td>\n",
       "      <td>0.012073</td>\n",
       "      <td>0.089346</td>\n",
       "      <td>0.953983</td>\n",
       "      <td>79.019684</td>\n",
       "      <td>843.726868</td>\n",
       "      <td>884.425720</td>\n",
       "      <td>2.788523</td>\n",
       "      <td>1.907480e-01</td>\n",
       "      <td>...</td>\n",
       "      <td>0.332</td>\n",
       "      <td>0.500</td>\n",
       "      <td>0.447</td>\n",
       "      <td>24.122000</td>\n",
       "      <td>13.658000</td>\n",
       "      <td>16.549999</td>\n",
       "      <td>24.032000</td>\n",
       "      <td>18.058001</td>\n",
       "      <td>25.240999</td>\n",
       "      <td>23.617001</td>\n",
       "    </tr>\n",
       "    <tr>\n",
       "      <th>...</th>\n",
       "      <td>...</td>\n",
       "      <td>...</td>\n",
       "      <td>...</td>\n",
       "      <td>...</td>\n",
       "      <td>...</td>\n",
       "      <td>...</td>\n",
       "      <td>...</td>\n",
       "      <td>...</td>\n",
       "      <td>...</td>\n",
       "      <td>...</td>\n",
       "      <td>...</td>\n",
       "      <td>...</td>\n",
       "      <td>...</td>\n",
       "      <td>...</td>\n",
       "      <td>...</td>\n",
       "      <td>...</td>\n",
       "      <td>...</td>\n",
       "      <td>...</td>\n",
       "      <td>...</td>\n",
       "      <td>...</td>\n",
       "      <td>...</td>\n",
       "    </tr>\n",
       "    <tr>\n",
       "      <th>637</th>\n",
       "      <td>0.755546</td>\n",
       "      <td>0.995951</td>\n",
       "      <td>0.005946</td>\n",
       "      <td>0.089896</td>\n",
       "      <td>0.963891</td>\n",
       "      <td>162.111420</td>\n",
       "      <td>1738.211670</td>\n",
       "      <td>1803.327881</td>\n",
       "      <td>3.420901</td>\n",
       "      <td>1.453280e-01</td>\n",
       "      <td>...</td>\n",
       "      <td>0.367</td>\n",
       "      <td>0.544</td>\n",
       "      <td>0.441</td>\n",
       "      <td>43.842999</td>\n",
       "      <td>26.549999</td>\n",
       "      <td>31.146000</td>\n",
       "      <td>43.464001</td>\n",
       "      <td>33.743999</td>\n",
       "      <td>45.733002</td>\n",
       "      <td>43.125000</td>\n",
       "    </tr>\n",
       "    <tr>\n",
       "      <th>638</th>\n",
       "      <td>0.165101</td>\n",
       "      <td>0.826996</td>\n",
       "      <td>0.007906</td>\n",
       "      <td>0.562207</td>\n",
       "      <td>0.571108</td>\n",
       "      <td>72.240784</td>\n",
       "      <td>73.384537</td>\n",
       "      <td>128.494949</td>\n",
       "      <td>1.388195</td>\n",
       "      <td>4.042432e-01</td>\n",
       "      <td>...</td>\n",
       "      <td>0.358</td>\n",
       "      <td>0.609</td>\n",
       "      <td>0.437</td>\n",
       "      <td>7.769000</td>\n",
       "      <td>3.112000</td>\n",
       "      <td>4.650000</td>\n",
       "      <td>7.545000</td>\n",
       "      <td>5.466000</td>\n",
       "      <td>8.137000</td>\n",
       "      <td>6.445000</td>\n",
       "    </tr>\n",
       "    <tr>\n",
       "      <th>639</th>\n",
       "      <td>0.583493</td>\n",
       "      <td>0.986027</td>\n",
       "      <td>0.008298</td>\n",
       "      <td>0.166587</td>\n",
       "      <td>0.833413</td>\n",
       "      <td>100.435768</td>\n",
       "      <td>502.466919</td>\n",
       "      <td>602.902710</td>\n",
       "      <td>2.221902</td>\n",
       "      <td>7.588825e-12</td>\n",
       "      <td>...</td>\n",
       "      <td>0.239</td>\n",
       "      <td>0.468</td>\n",
       "      <td>0.484</td>\n",
       "      <td>13.035000</td>\n",
       "      <td>8.370000</td>\n",
       "      <td>8.696000</td>\n",
       "      <td>13.239000</td>\n",
       "      <td>8.933000</td>\n",
       "      <td>13.996000</td>\n",
       "      <td>13.196000</td>\n",
       "    </tr>\n",
       "    <tr>\n",
       "      <th>640</th>\n",
       "      <td>0.706997</td>\n",
       "      <td>0.993978</td>\n",
       "      <td>0.007029</td>\n",
       "      <td>0.109582</td>\n",
       "      <td>0.923499</td>\n",
       "      <td>131.384323</td>\n",
       "      <td>1107.234985</td>\n",
       "      <td>1198.956543</td>\n",
       "      <td>3.008575</td>\n",
       "      <td>2.046638e-01</td>\n",
       "      <td>...</td>\n",
       "      <td>0.373</td>\n",
       "      <td>0.473</td>\n",
       "      <td>0.482</td>\n",
       "      <td>24.205000</td>\n",
       "      <td>21.320999</td>\n",
       "      <td>19.400000</td>\n",
       "      <td>24.743000</td>\n",
       "      <td>21.311001</td>\n",
       "      <td>25.228001</td>\n",
       "      <td>27.371000</td>\n",
       "    </tr>\n",
       "    <tr>\n",
       "      <th>641</th>\n",
       "      <td>0.171629</td>\n",
       "      <td>0.842188</td>\n",
       "      <td>0.005805</td>\n",
       "      <td>0.539185</td>\n",
       "      <td>0.584517</td>\n",
       "      <td>100.690674</td>\n",
       "      <td>109.156242</td>\n",
       "      <td>186.746155</td>\n",
       "      <td>1.500220</td>\n",
       "      <td>3.657571e-01</td>\n",
       "      <td>...</td>\n",
       "      <td>0.479</td>\n",
       "      <td>0.770</td>\n",
       "      <td>0.534</td>\n",
       "      <td>8.330000</td>\n",
       "      <td>3.798000</td>\n",
       "      <td>5.329000</td>\n",
       "      <td>7.978000</td>\n",
       "      <td>6.180000</td>\n",
       "      <td>8.709000</td>\n",
       "      <td>6.539000</td>\n",
       "    </tr>\n",
       "  </tbody>\n",
       "</table>\n",
       "<p>642 rows × 639 columns</p>\n",
       "</div>\n",
       "    <div class=\"colab-df-buttons\">\n",
       "\n",
       "  <div class=\"colab-df-container\">\n",
       "    <button class=\"colab-df-convert\" onclick=\"convertToInteractive('df-19fd699e-fe03-45ef-ac28-4c65469ff593')\"\n",
       "            title=\"Convert this dataframe to an interactive table.\"\n",
       "            style=\"display:none;\">\n",
       "\n",
       "  <svg xmlns=\"http://www.w3.org/2000/svg\" height=\"24px\" viewBox=\"0 -960 960 960\">\n",
       "    <path d=\"M120-120v-720h720v720H120Zm60-500h600v-160H180v160Zm220 220h160v-160H400v160Zm0 220h160v-160H400v160ZM180-400h160v-160H180v160Zm440 0h160v-160H620v160ZM180-180h160v-160H180v160Zm440 0h160v-160H620v160Z\"/>\n",
       "  </svg>\n",
       "    </button>\n",
       "\n",
       "  <style>\n",
       "    .colab-df-container {\n",
       "      display:flex;\n",
       "      gap: 12px;\n",
       "    }\n",
       "\n",
       "    .colab-df-convert {\n",
       "      background-color: #E8F0FE;\n",
       "      border: none;\n",
       "      border-radius: 50%;\n",
       "      cursor: pointer;\n",
       "      display: none;\n",
       "      fill: #1967D2;\n",
       "      height: 32px;\n",
       "      padding: 0 0 0 0;\n",
       "      width: 32px;\n",
       "    }\n",
       "\n",
       "    .colab-df-convert:hover {\n",
       "      background-color: #E2EBFA;\n",
       "      box-shadow: 0px 1px 2px rgba(60, 64, 67, 0.3), 0px 1px 3px 1px rgba(60, 64, 67, 0.15);\n",
       "      fill: #174EA6;\n",
       "    }\n",
       "\n",
       "    .colab-df-buttons div {\n",
       "      margin-bottom: 4px;\n",
       "    }\n",
       "\n",
       "    [theme=dark] .colab-df-convert {\n",
       "      background-color: #3B4455;\n",
       "      fill: #D2E3FC;\n",
       "    }\n",
       "\n",
       "    [theme=dark] .colab-df-convert:hover {\n",
       "      background-color: #434B5C;\n",
       "      box-shadow: 0px 1px 3px 1px rgba(0, 0, 0, 0.15);\n",
       "      filter: drop-shadow(0px 1px 2px rgba(0, 0, 0, 0.3));\n",
       "      fill: #FFFFFF;\n",
       "    }\n",
       "  </style>\n",
       "\n",
       "    <script>\n",
       "      const buttonEl =\n",
       "        document.querySelector('#df-19fd699e-fe03-45ef-ac28-4c65469ff593 button.colab-df-convert');\n",
       "      buttonEl.style.display =\n",
       "        google.colab.kernel.accessAllowed ? 'block' : 'none';\n",
       "\n",
       "      async function convertToInteractive(key) {\n",
       "        const element = document.querySelector('#df-19fd699e-fe03-45ef-ac28-4c65469ff593');\n",
       "        const dataTable =\n",
       "          await google.colab.kernel.invokeFunction('convertToInteractive',\n",
       "                                                    [key], {});\n",
       "        if (!dataTable) return;\n",
       "\n",
       "        const docLinkHtml = 'Like what you see? Visit the ' +\n",
       "          '<a target=\"_blank\" href=https://colab.research.google.com/notebooks/data_table.ipynb>data table notebook</a>'\n",
       "          + ' to learn more about interactive tables.';\n",
       "        element.innerHTML = '';\n",
       "        dataTable['output_type'] = 'display_data';\n",
       "        await google.colab.output.renderOutput(dataTable, element);\n",
       "        const docLink = document.createElement('div');\n",
       "        docLink.innerHTML = docLinkHtml;\n",
       "        element.appendChild(docLink);\n",
       "      }\n",
       "    </script>\n",
       "  </div>\n",
       "\n",
       "\n",
       "<div id=\"df-29faad68-0c27-41b5-b042-96fed1f878cf\">\n",
       "  <button class=\"colab-df-quickchart\" onclick=\"quickchart('df-29faad68-0c27-41b5-b042-96fed1f878cf')\"\n",
       "            title=\"Suggest charts\"\n",
       "            style=\"display:none;\">\n",
       "\n",
       "<svg xmlns=\"http://www.w3.org/2000/svg\" height=\"24px\"viewBox=\"0 0 24 24\"\n",
       "     width=\"24px\">\n",
       "    <g>\n",
       "        <path d=\"M19 3H5c-1.1 0-2 .9-2 2v14c0 1.1.9 2 2 2h14c1.1 0 2-.9 2-2V5c0-1.1-.9-2-2-2zM9 17H7v-7h2v7zm4 0h-2V7h2v10zm4 0h-2v-4h2v4z\"/>\n",
       "    </g>\n",
       "</svg>\n",
       "  </button>\n",
       "\n",
       "<style>\n",
       "  .colab-df-quickchart {\n",
       "      --bg-color: #E8F0FE;\n",
       "      --fill-color: #1967D2;\n",
       "      --hover-bg-color: #E2EBFA;\n",
       "      --hover-fill-color: #174EA6;\n",
       "      --disabled-fill-color: #AAA;\n",
       "      --disabled-bg-color: #DDD;\n",
       "  }\n",
       "\n",
       "  [theme=dark] .colab-df-quickchart {\n",
       "      --bg-color: #3B4455;\n",
       "      --fill-color: #D2E3FC;\n",
       "      --hover-bg-color: #434B5C;\n",
       "      --hover-fill-color: #FFFFFF;\n",
       "      --disabled-bg-color: #3B4455;\n",
       "      --disabled-fill-color: #666;\n",
       "  }\n",
       "\n",
       "  .colab-df-quickchart {\n",
       "    background-color: var(--bg-color);\n",
       "    border: none;\n",
       "    border-radius: 50%;\n",
       "    cursor: pointer;\n",
       "    display: none;\n",
       "    fill: var(--fill-color);\n",
       "    height: 32px;\n",
       "    padding: 0;\n",
       "    width: 32px;\n",
       "  }\n",
       "\n",
       "  .colab-df-quickchart:hover {\n",
       "    background-color: var(--hover-bg-color);\n",
       "    box-shadow: 0 1px 2px rgba(60, 64, 67, 0.3), 0 1px 3px 1px rgba(60, 64, 67, 0.15);\n",
       "    fill: var(--button-hover-fill-color);\n",
       "  }\n",
       "\n",
       "  .colab-df-quickchart-complete:disabled,\n",
       "  .colab-df-quickchart-complete:disabled:hover {\n",
       "    background-color: var(--disabled-bg-color);\n",
       "    fill: var(--disabled-fill-color);\n",
       "    box-shadow: none;\n",
       "  }\n",
       "\n",
       "  .colab-df-spinner {\n",
       "    border: 2px solid var(--fill-color);\n",
       "    border-color: transparent;\n",
       "    border-bottom-color: var(--fill-color);\n",
       "    animation:\n",
       "      spin 1s steps(1) infinite;\n",
       "  }\n",
       "\n",
       "  @keyframes spin {\n",
       "    0% {\n",
       "      border-color: transparent;\n",
       "      border-bottom-color: var(--fill-color);\n",
       "      border-left-color: var(--fill-color);\n",
       "    }\n",
       "    20% {\n",
       "      border-color: transparent;\n",
       "      border-left-color: var(--fill-color);\n",
       "      border-top-color: var(--fill-color);\n",
       "    }\n",
       "    30% {\n",
       "      border-color: transparent;\n",
       "      border-left-color: var(--fill-color);\n",
       "      border-top-color: var(--fill-color);\n",
       "      border-right-color: var(--fill-color);\n",
       "    }\n",
       "    40% {\n",
       "      border-color: transparent;\n",
       "      border-right-color: var(--fill-color);\n",
       "      border-top-color: var(--fill-color);\n",
       "    }\n",
       "    60% {\n",
       "      border-color: transparent;\n",
       "      border-right-color: var(--fill-color);\n",
       "    }\n",
       "    80% {\n",
       "      border-color: transparent;\n",
       "      border-right-color: var(--fill-color);\n",
       "      border-bottom-color: var(--fill-color);\n",
       "    }\n",
       "    90% {\n",
       "      border-color: transparent;\n",
       "      border-bottom-color: var(--fill-color);\n",
       "    }\n",
       "  }\n",
       "</style>\n",
       "\n",
       "  <script>\n",
       "    async function quickchart(key) {\n",
       "      const quickchartButtonEl =\n",
       "        document.querySelector('#' + key + ' button');\n",
       "      quickchartButtonEl.disabled = true;  // To prevent multiple clicks.\n",
       "      quickchartButtonEl.classList.add('colab-df-spinner');\n",
       "      try {\n",
       "        const charts = await google.colab.kernel.invokeFunction(\n",
       "            'suggestCharts', [key], {});\n",
       "      } catch (error) {\n",
       "        console.error('Error during call to suggestCharts:', error);\n",
       "      }\n",
       "      quickchartButtonEl.classList.remove('colab-df-spinner');\n",
       "      quickchartButtonEl.classList.add('colab-df-quickchart-complete');\n",
       "    }\n",
       "    (() => {\n",
       "      let quickchartButtonEl =\n",
       "        document.querySelector('#df-29faad68-0c27-41b5-b042-96fed1f878cf button');\n",
       "      quickchartButtonEl.style.display =\n",
       "        google.colab.kernel.accessAllowed ? 'block' : 'none';\n",
       "    })();\n",
       "  </script>\n",
       "</div>\n",
       "\n",
       "    </div>\n",
       "  </div>\n"
      ],
      "application/vnd.google.colaboratory.intrinsic+json": {
       "type": "dataframe"
      }
     },
     "metadata": {},
     "execution_count": 20
    }
   ]
  },
  {
   "cell_type": "markdown",
   "source": [
    "## Concatenate featurizers"
   ],
   "metadata": {
    "id": "kE8uCKjzhfuN",
    "pycharm": {
     "name": "#%% md\n"
    }
   }
  },
  {
   "cell_type": "code",
   "source": [
    "from molfeat.trans.fp import FPVecTransformer\n",
    "\n",
    "# We will use the FPVecTransformer to automatically create a calculator by name\n",
    "maccs = FPVecTransformer(\"maccs\", dtype=np.float32)\n",
    "ecfp4 = FPVecTransformer(\"ecfp:4\", dtype=np.float32)\n",
    "\n",
    "maccs([smiles]).shape, ecfp4([smiles]).shape"
   ],
   "metadata": {
    "colab": {
     "base_uri": "https://localhost:8080/"
    },
    "id": "y_tTHWiHf4PP",
    "outputId": "d669b7d8-2a59-417f-b1b1-733b88d01759",
    "pycharm": {
     "name": "#%%\n"
    }
   },
   "execution_count": null,
   "outputs": [
    {
     "output_type": "execute_result",
     "data": {
      "text/plain": [
       "((1, 167), (1, 2000))"
      ]
     },
     "metadata": {},
     "execution_count": 21
    }
   ]
  },
  {
   "cell_type": "markdown",
   "source": [
    "## Pretrained transformers\n",
    "\n",
    "Finally, the `PretrainedMolTransformer` class extends the transformer interface to support the usage of pretrained models.\n",
    "\n",
    " This class is a subclass of MoleculeTransformer and inherits all its methods. In addition, it adds the `_embed()`, and `_convert()`.\n",
    "\n",
    "- `_embed()`: since pre-trained models benefit from batched featurization, this method is called by the transformer instead of the calculator.\n",
    "\n",
    "- `_convert()`: this method is called by the transformer to convert the input. For example:\n",
    "\n",
    "- - For a pre-trained language model, we convert from a SMILES string or Mol object to a SELFIES string.\n",
    "\n",
    "- - For a pre-trained GNN, we convert from a SMILES string or Mol object to a DGL graph."
   ],
   "metadata": {
    "id": "CvgzRi-ihtFt",
    "pycharm": {
     "name": "#%% md\n"
    }
   }
  },
  {
   "cell_type": "code",
   "source": [],
   "metadata": {
    "id": "4ue8MEy7hkKG",
    "pycharm": {
     "name": "#%%\n"
    }
   },
   "execution_count": null,
   "outputs": []
  }
 ]
}